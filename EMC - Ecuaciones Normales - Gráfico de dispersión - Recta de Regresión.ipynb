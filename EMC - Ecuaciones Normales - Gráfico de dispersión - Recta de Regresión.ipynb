{
 "cells": [
  {
   "cell_type": "markdown",
   "metadata": {},
   "source": [
    "### Estimador de mínimos cuadrados y ecuaciones normales\n",
    "\n",
    "Implemente una función que dado un vector $Y$ de valores de respuesta y una matriz $X$ de\n",
    "valores observados, **mediante las ecuaciones normales**, calcule el **estimador de cuadrados mínimos** $\\hat\\beta$."
   ]
  },
  {
   "cell_type": "markdown",
   "metadata": {},
   "source": [
    "Las ecuaciones normales que nos permiten hallar el estimador de mínimos cuadrados (EMC) para los coficientes $\\beta$ son: \n",
    "\n",
    "$\\hat\\beta = (X^{T}X)^{-1}X^{T}Y$"
   ]
  },
  {
   "cell_type": "markdown",
   "metadata": {},
   "source": [
    "**Llamamos:**\n",
    "* X = matriz de valores observados\n",
    "* Y = valores de respuesta"
   ]
  },
  {
   "cell_type": "markdown",
   "metadata": {},
   "source": [
    "La función que creamos es entonces la siguiente:"
   ]
  },
  {
   "cell_type": "code",
   "execution_count": 1,
   "metadata": {},
   "outputs": [],
   "source": [
    "beta <- function(X, Y) {\n",
    "    X <- model.matrix(~X)\n",
    "   beta = solve(t(X) %*%X) %*% t(X) %*% Y\n",
    "}"
   ]
  },
  {
   "cell_type": "markdown",
   "metadata": {},
   "source": [
    "Y la probaremos con el data set cars:"
   ]
  },
  {
   "cell_type": "code",
   "execution_count": 2,
   "metadata": {},
   "outputs": [],
   "source": [
    "X<-cars$speed\n",
    "Y<-cars$dist"
   ]
  },
  {
   "cell_type": "code",
   "execution_count": 3,
   "metadata": {},
   "outputs": [
    {
     "name": "stdout",
     "output_type": "stream",
     "text": [
      "                  [,1]\n",
      "(Intercept) -17.579095\n",
      "X             3.932409\n"
     ]
    }
   ],
   "source": [
    "print(beta(X,Y))"
   ]
  },
  {
   "cell_type": "code",
   "execution_count": 2,
   "metadata": {},
   "outputs": [
    {
     "name": "stdout",
     "output_type": "stream",
     "text": [
      "\n",
      "Call:\n",
      "lm(formula = dist ~ speed, data = cars)\n",
      "\n",
      "Coefficients:\n",
      "(Intercept)        speed  \n",
      "    -17.579        3.932  \n",
      "\n"
     ]
    }
   ],
   "source": [
    "print(lm(data = cars, dist~speed))"
   ]
  },
  {
   "cell_type": "markdown",
   "metadata": {},
   "source": [
    "Comprobamos que la función nos muestra las estimaciones correctas para los $\\beta$"
   ]
  },
  {
   "cell_type": "markdown",
   "metadata": {},
   "source": [
    "### Ejercicio 10 - Diagrama de dispersión y recta de regresión\n",
    "\n",
    "Se tiene en el archivo girasol.txt el rinde de diversas parcelas de girasol (en toneladas) según la cantidad de dinero invertida en fertilizantes (en miles de pesos).\n",
    "\n",
    "**a.** Graficar en un **diagrama de dispersión** inversión vs rinde.\n",
    "\n",
    "**b.** Plantear un modelo de regresión lineal simple y obtener el **estimador de mínimos cuadrados**.\n",
    "\n",
    "**c.** Graficar la **recta de regresión** obtenida, ¿detecta algo sospechoso?"
   ]
  },
  {
   "cell_type": "markdown",
   "metadata": {},
   "source": [
    "**a. Graficar en un diagrama de dispersión inversión vs rinde.**"
   ]
  },
  {
   "cell_type": "code",
   "execution_count": 8,
   "metadata": {},
   "outputs": [],
   "source": [
    "datos_girasol <- read.table(file = \"girasol.txt\", sep=\" \", header = T)"
   ]
  },
  {
   "cell_type": "code",
   "execution_count": 9,
   "metadata": {
    "scrolled": true
   },
   "outputs": [
    {
     "data": {
      "text/html": [
       "<table>\n",
       "<caption>A data.frame: 6 × 2</caption>\n",
       "<thead>\n",
       "\t<tr><th></th><th scope=col>inversion</th><th scope=col>rinde</th></tr>\n",
       "\t<tr><th></th><th scope=col>&lt;dbl&gt;</th><th scope=col>&lt;dbl&gt;</th></tr>\n",
       "</thead>\n",
       "<tbody>\n",
       "\t<tr><th scope=row>1</th><td>152.53730</td><td>474.3608</td></tr>\n",
       "\t<tr><th scope=row>2</th><td>180.93557</td><td>437.4576</td></tr>\n",
       "\t<tr><th scope=row>3</th><td>153.51759</td><td>460.3179</td></tr>\n",
       "\t<tr><th scope=row>4</th><td> 67.39041</td><td>305.2151</td></tr>\n",
       "\t<tr><th scope=row>5</th><td> 79.25137</td><td>224.3560</td></tr>\n",
       "\t<tr><th scope=row>6</th><td>119.18013</td><td>410.0063</td></tr>\n",
       "</tbody>\n",
       "</table>\n"
      ],
      "text/latex": [
       "A data.frame: 6 × 2\n",
       "\\begin{tabular}{r|ll}\n",
       "  & inversion & rinde\\\\\n",
       "  & <dbl> & <dbl>\\\\\n",
       "\\hline\n",
       "\t1 & 152.53730 & 474.3608\\\\\n",
       "\t2 & 180.93557 & 437.4576\\\\\n",
       "\t3 & 153.51759 & 460.3179\\\\\n",
       "\t4 &  67.39041 & 305.2151\\\\\n",
       "\t5 &  79.25137 & 224.3560\\\\\n",
       "\t6 & 119.18013 & 410.0063\\\\\n",
       "\\end{tabular}\n"
      ],
      "text/markdown": [
       "\n",
       "A data.frame: 6 × 2\n",
       "\n",
       "| <!--/--> | inversion &lt;dbl&gt; | rinde &lt;dbl&gt; |\n",
       "|---|---|---|\n",
       "| 1 | 152.53730 | 474.3608 |\n",
       "| 2 | 180.93557 | 437.4576 |\n",
       "| 3 | 153.51759 | 460.3179 |\n",
       "| 4 |  67.39041 | 305.2151 |\n",
       "| 5 |  79.25137 | 224.3560 |\n",
       "| 6 | 119.18013 | 410.0063 |\n",
       "\n"
      ],
      "text/plain": [
       "  inversion rinde   \n",
       "1 152.53730 474.3608\n",
       "2 180.93557 437.4576\n",
       "3 153.51759 460.3179\n",
       "4  67.39041 305.2151\n",
       "5  79.25137 224.3560\n",
       "6 119.18013 410.0063"
      ]
     },
     "metadata": {},
     "output_type": "display_data"
    }
   ],
   "source": [
    "head(datos_girasol)"
   ]
  },
  {
   "cell_type": "code",
   "execution_count": 13,
   "metadata": {},
   "outputs": [],
   "source": [
    "inversion <- datos_girasol$inversion"
   ]
  },
  {
   "cell_type": "code",
   "execution_count": 14,
   "metadata": {
    "scrolled": true
   },
   "outputs": [],
   "source": [
    "rinde <- datos_girasol$rinde"
   ]
  },
  {
   "cell_type": "code",
   "execution_count": 15,
   "metadata": {},
   "outputs": [
    {
     "data": {
      "image/png": "[encoded data removed]",
      "text/plain": [
       "plot without title"
      ]
     },
     "metadata": {
      "image/png": {
       "height": 420,
       "width": 420
      }
     },
     "output_type": "display_data"
    }
   ],
   "source": [
    "plot(inversion, rinde)\n",
    "p<-recordPlot()"
   ]
  },
  {
   "cell_type": "markdown",
   "metadata": {},
   "source": [
    "**b. Plantear un modelo de regresión lineal simple y obtener el estimador de mínimos cuadrados.**"
   ]
  },
  {
   "cell_type": "code",
   "execution_count": 96,
   "metadata": {},
   "outputs": [
    {
     "data": {
      "text/plain": [
       "\n",
       "Call:\n",
       "lm(formula = rinde ~ inversion)\n",
       "\n",
       "Residuals:\n",
       "    Min      1Q  Median      3Q     Max \n",
       "-368.43   -3.88   55.95  112.52  216.51 \n",
       "\n",
       "Coefficients:\n",
       "            Estimate Std. Error t value Pr(>|t|)  \n",
       "(Intercept) 158.0532    71.4879   2.211   0.0318 *\n",
       "inversion     1.2224     0.5578   2.191   0.0333 *\n",
       "---\n",
       "Signif. codes:  0 ‘***’ 0.001 ‘**’ 0.01 ‘*’ 0.05 ‘.’ 0.1 ‘ ’ 1\n",
       "\n",
       "Residual standard error: 172.1 on 48 degrees of freedom\n",
       "Multiple R-squared:  0.09095,\tAdjusted R-squared:  0.07201 \n",
       "F-statistic: 4.802 on 1 and 48 DF,  p-value: 0.03331\n"
      ]
     },
     "metadata": {},
     "output_type": "display_data"
    }
   ],
   "source": [
    "modelo = lm(rinde ~ inversion)\n",
    "summary(modelo)"
   ]
  },
  {
   "cell_type": "markdown",
   "metadata": {},
   "source": [
    "Podemos ver que el **modelo lineal** resulta: **estimacion_rinde** = 158.0532 + 1.224 * **inversion** "
   ]
  },
  {
   "cell_type": "markdown",
   "metadata": {},
   "source": [
    "**c. Graficar la recta de regresión obtenida, ¿detecta algo sospechoso?**"
   ]
  },
  {
   "cell_type": "code",
   "execution_count": 106,
   "metadata": {},
   "outputs": [
    {
     "data": {
      "image/png": "[encoded data removed]",
      "text/plain": [
       "plot without title"
      ]
     },
     "metadata": {
      "image/png": {
       "height": 420,
       "width": 420
      }
     },
     "output_type": "display_data"
    }
   ],
   "source": [
    "t <- seq(0,200,1)\n",
    "recta<-158.0532 + 1.2224 * t\n",
    "replayPlot(p)\n",
    "points(t,recta, type = \"l\", ylim = c(0,600))\n",
    "lines(t,recta, type = \"l\", ylim = c(0,600))"
   ]
  },
  {
   "cell_type": "markdown",
   "metadata": {},
   "source": [
    "Se observa que el modelo no es muy útil si se consideran los casos extremos en los que ocurrieron mucha inversion y a pesar de eso el rinde fue mínimo. Estos datos son outliers que no son representativos de los casos más comunes y por lo tanto al utilizarlos para crear el modelo, la recta de regresión no es buena."
   ]
  }
 ],
 "metadata": {
  "kernelspec": {
   "display_name": "R",
   "language": "R",
   "name": "ir"
  },
  "language_info": {
   "codemirror_mode": "r",
   "file_extension": ".r",
   "mimetype": "text/x-r-source",
   "name": "R",
   "pygments_lexer": "r",
   "version": "3.6.1"
  }
 },
 "nbformat": 4,
 "nbformat_minor": 4
}

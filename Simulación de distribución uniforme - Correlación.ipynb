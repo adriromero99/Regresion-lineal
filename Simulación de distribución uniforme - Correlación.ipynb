{
 "cells": [
  {
   "cell_type": "markdown",
   "metadata": {},
   "source": [
    "## Simulación de distribución uniforme - Correlación\n",
    "\n",
    "**Generar el siguiente modelo:**\n",
    "\n",
    "**1)** Crear dos vectores de datos de tamaño 100 $X_1$ y $X_2$ a partir de una **distribución uniforme** en el intervalo (0,1) \n",
    "\n",
    "**2)** Crear el vector $Y$ = 2 + 2 $X_1$ + 0.3 $X_2$ + $\\epsilon$, con $\\epsilon$ que contenga 100 observaciones provenientes de una distribución **$N$**(0, 1). \n",
    "\n",
    "**3)** ¿Cuáles son los **coeficientes de regresión**?. \n",
    "\n",
    "**4)** Estimar la **correlación** entre $X_1$ y $X_2$. \n",
    "\n",
    "**5)** Realizar un **scatterplot** en el que pueda observarse la relación entre $X_1$ y $X_2$.\n",
    "\n",
    "**6)** Utilizando los datos generados, ajustar a un **modelo lineal** para predecir y en función de $X_1$ y $X_2$, utilizando el **método de cuadrados mínimos** y comparar los valores exactos de **$\\beta$** con sus valores estimados."
   ]
  },
  {
   "cell_type": "code",
   "execution_count": 1,
   "metadata": {},
   "outputs": [],
   "source": [
    "set.seed(1)"
   ]
  },
  {
   "cell_type": "markdown",
   "metadata": {},
   "source": [
    "**1)** Crear dos vectores de datos de tamaño 100 $X_1$ y $X_2$ a partir de una **distribución uniforme** en el intervalo (0,1) "
   ]
  },
  {
   "cell_type": "code",
   "execution_count": 2,
   "metadata": {},
   "outputs": [],
   "source": [
    "x1 <- runif(100, min=0, max=1) \n",
    "x2 <- runif(100, min=0, max = 1)\n",
    "epsilon <- rnorm(100)"
   ]
  },
  {
   "cell_type": "markdown",
   "metadata": {},
   "source": [
    "**2)** Crear el vector $Y$ = 2 + 2 ∗ $X_1$ + 0.3 ∗ $X_2$ + $\\epsilon$, con $\\epsilon$ que contenga 100 observaciones provenientes de una distribución **$N$**(0, 1). "
   ]
  },
  {
   "cell_type": "code",
   "execution_count": 3,
   "metadata": {},
   "outputs": [],
   "source": [
    "y <- 2 + 2 * x1 + 0.3 * x2 + epsilon"
   ]
  },
  {
   "cell_type": "markdown",
   "metadata": {},
   "source": [
    "**3)** ¿Cuáles son los **coeficientes de regresión**?. "
   ]
  },
  {
   "cell_type": "markdown",
   "metadata": {},
   "source": [
    "Los coeficientes de la regresion son: 2, 2, 0.3"
   ]
  },
  {
   "cell_type": "markdown",
   "metadata": {},
   "source": [
    "**4)** Estimar la **correlación** entre $X_1$ y $X_2$. "
   ]
  },
  {
   "cell_type": "code",
   "execution_count": 4,
   "metadata": {},
   "outputs": [
    {
     "data": {
      "text/html": [
       "0.0170321463169618"
      ],
      "text/latex": [
       "0.0170321463169618"
      ],
      "text/markdown": [
       "0.0170321463169618"
      ],
      "text/plain": [
       "[1] 0.01703215"
      ]
     },
     "metadata": {},
     "output_type": "display_data"
    }
   ],
   "source": [
    "cor(x1, x2)"
   ]
  },
  {
   "cell_type": "markdown",
   "metadata": {},
   "source": [
    "**5)** Realizar un **scatterplot** en el que pueda observarse la relación entre $X_1$ y $X_2$."
   ]
  },
  {
   "cell_type": "code",
   "execution_count": 5,
   "metadata": {},
   "outputs": [
    {
     "data": {
      "image/png": "[encoded data removed]",
      "text/plain": [
       "plot without title"
      ]
     },
     "metadata": {
      "image/png": {
       "height": 420,
       "width": 420
      }
     },
     "output_type": "display_data"
    }
   ],
   "source": [
    "plot(x1, x2)"
   ]
  },
  {
   "cell_type": "markdown",
   "metadata": {},
   "source": [
    "Se observa que las variables estan **muy descorrelacionadas** por eso la correlación resultó cercana a 0."
   ]
  },
  {
   "cell_type": "markdown",
   "metadata": {},
   "source": [
    "**6)** Utilizando los datos generados, ajustar a un **modelo lineal** para predecir y en función de $X_1$ y $X_2$, utilizando el **método de cuadrados mínimos** y comparar los valores exactos de **β** con sus valores estimados."
   ]
  },
  {
   "cell_type": "code",
   "execution_count": 6,
   "metadata": {},
   "outputs": [
    {
     "data": {
      "text/plain": [
       "\n",
       "Call:\n",
       "lm(formula = y ~ x1 + x2)\n",
       "\n",
       "Residuals:\n",
       "    Min      1Q  Median      3Q     Max \n",
       "-1.8579 -0.6167 -0.1432  0.5352  2.3318 \n",
       "\n",
       "Coefficients:\n",
       "            Estimate Std. Error t value Pr(>|t|)    \n",
       "(Intercept)   1.9906     0.2791   7.133 1.77e-10 ***\n",
       "x1            1.9307     0.3634   5.312 6.89e-07 ***\n",
       "x2            0.3144     0.3578   0.879    0.382    \n",
       "---\n",
       "Signif. codes:  0 ‘***’ 0.001 ‘**’ 0.01 ‘*’ 0.05 ‘.’ 0.1 ‘ ’ 1\n",
       "\n",
       "Residual standard error: 0.9675 on 97 degrees of freedom\n",
       "Multiple R-squared:  0.2311,\tAdjusted R-squared:  0.2153 \n",
       "F-statistic: 14.58 on 2 and 97 DF,  p-value: 2.909e-06\n"
      ]
     },
     "metadata": {},
     "output_type": "display_data"
    }
   ],
   "source": [
    "modelo <- lm(y ~ x1 + x2)\n",
    "summary(modelo)"
   ]
  },
  {
   "cell_type": "markdown",
   "metadata": {},
   "source": [
    "Observamos que las estimaciones son muy buenas, a saber:\n",
    "\n",
    "$\\hat\\beta_0$ = 1.9906 $\\hspace{3mm}$ $\\beta_0$ = 2 $\\hspace{10mm}$\n",
    "$\\hat\\beta_1$ = 1.9307 $\\hspace{3mm}$ $\\beta_1$ = 2 $\\hspace{10mm}$\n",
    "$\\hat\\beta_2$ = 0.3144 $\\hspace{3mm}$ $\\beta_2$ = 0.3 $\\hspace{10mm}$\n",
    "\n",
    "\n",
    "\n",
    "\n"
   ]
  },
  {
   "cell_type": "markdown",
   "metadata": {},
   "source": [
    "**7)** **Repetir pero con el siguiente modelo:** \n",
    "\n",
    "- Crear dos vectores de datos de tamaño 100: \n",
    "    - $X_1$ a partir de una distribución uniforme en el intervalo (0, 1) \n",
    "    - $X_2$ = 0.5 ∗ $X_1$ + rnorm(100)/10.\n",
    "\n",
    "- Crear el vector $Y$ = 2 + 2 $X_1$ + 0.3 $X_2$ + rnorm(100). \n",
    "\n",
    "- Comparar los resultados obtenidos con los del ítem anterior."
   ]
  },
  {
   "cell_type": "code",
   "execution_count": 7,
   "metadata": {},
   "outputs": [],
   "source": [
    "x1 <- runif(100 , min = 0, max = 1)\n",
    "x2 <- 0.5 * x1 + (rnorm(100)/10) #Observacion x2 es comb lineal de x1 + algun error -> espero alta correlacion\n",
    "y <- 2 + 2 * x1 + 0.3 * x2 + rnorm(100)"
   ]
  },
  {
   "cell_type": "code",
   "execution_count": 8,
   "metadata": {},
   "outputs": [
    {
     "data": {
      "text/html": [
       "0.85136212155028"
      ],
      "text/latex": [
       "0.85136212155028"
      ],
      "text/markdown": [
       "0.85136212155028"
      ],
      "text/plain": [
       "[1] 0.8513621"
      ]
     },
     "metadata": {},
     "output_type": "display_data"
    }
   ],
   "source": [
    "cor(x1, x2)"
   ]
  },
  {
   "cell_type": "code",
   "execution_count": 9,
   "metadata": {},
   "outputs": [
    {
     "data": {
      "text/plain": [
       "\n",
       "Call:\n",
       "lm(formula = y ~ x1 + x2)\n",
       "\n",
       "Residuals:\n",
       "     Min       1Q   Median       3Q      Max \n",
       "-2.91594 -0.57900 -0.01157  0.68557  1.97436 \n",
       "\n",
       "Coefficients:\n",
       "            Estimate Std. Error t value Pr(>|t|)    \n",
       "(Intercept)   2.0533     0.2056   9.989   <2e-16 ***\n",
       "x1            1.6336     0.6656   2.454   0.0159 *  \n",
       "x2            0.5588     1.0914   0.512   0.6098    \n",
       "---\n",
       "Signif. codes:  0 ‘***’ 0.001 ‘**’ 0.01 ‘*’ 0.05 ‘.’ 0.1 ‘ ’ 1\n",
       "\n",
       "Residual standard error: 1.057 on 97 degrees of freedom\n",
       "Multiple R-squared:  0.2399,\tAdjusted R-squared:  0.2242 \n",
       "F-statistic: 15.31 on 2 and 97 DF,  p-value: 1.668e-06\n"
      ]
     },
     "metadata": {},
     "output_type": "display_data"
    }
   ],
   "source": [
    "summary(lm(y ~ x1 + x2))"
   ]
  },
  {
   "cell_type": "markdown",
   "metadata": {},
   "source": [
    "Al estar **correlacionadas** predigo peor a Y. Esto se debe a que tengo la misma información en $X_1$ que en $X_2$."
   ]
  }
 ],
 "metadata": {
  "kernelspec": {
   "display_name": "R",
   "language": "R",
   "name": "ir"
  },
  "language_info": {
   "codemirror_mode": "r",
   "file_extension": ".r",
   "mimetype": "text/x-r-source",
   "name": "R",
   "pygments_lexer": "r",
   "version": "3.6.1"
  }
 },
 "nbformat": 4,
 "nbformat_minor": 4
}

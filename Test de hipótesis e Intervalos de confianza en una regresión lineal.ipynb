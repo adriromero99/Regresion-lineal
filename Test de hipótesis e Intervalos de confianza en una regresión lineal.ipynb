{
 "cells": [
  {
   "cell_type": "markdown",
   "metadata": {},
   "source": [
    "##  Test de hipótesis e Intervalos de confianza en una regresión lineal\n",
    "\n",
    "Para este ejercicio es necesario utilizar el dataset que se encuentra en el archivo: cafeina.txt\n",
    "\n",
    "#### Experimento:\n",
    "Se dice que la cafeína ingerida oralmente es un estimulante.\n",
    "\n",
    "Con el fin de tener alguna idea sobre el efecto físico del consumo de cafeína se realizó el siguiente experimento:\n",
    "\n",
    "Se usaron tres niveles de consumo de cafeína: 0, 100 y 200 mg. y se entrenaron en digitación 30 hombres jovenes\n",
    "de aproximadamente la misma edad y habilidad física. Una vez que el entrenamiento se completó, 10\n",
    "hombres fueron asignados aleatoriamente a cada nivel de consumo de cafeína. Ni los evaluadores ni\n",
    "los jovenes conocían la cantidad de cafeína consumida. \n",
    "\n",
    "Dos horas despues de la administración del tratamiento, se requirió a cada uno de los jóvenes un ejercicio de digitación. En el archivo se muestra el número de digitaciones por minuto de cada uno de los individuos.\n",
    "\n",
    "#### Se pide:\n",
    "\n",
    "**a)** **Testee la hipótesis** de que la cafeína no afecta la digitación al nivel 0.05.\n",
    "\n",
    "**b)** Deduzca **intervalos de confianza para la diferencia de las medias** con un nivel global 0,95. Interprete\n",
    "los resultados."
   ]
  },
  {
   "cell_type": "code",
   "execution_count": 1,
   "metadata": {},
   "outputs": [],
   "source": [
    "datos_cafeina <- read.table(\"cafeina.txt\", header = T)"
   ]
  },
  {
   "cell_type": "code",
   "execution_count": 2,
   "metadata": {},
   "outputs": [],
   "source": [
    "datos_cafeina$obs <- NULL\n",
    "colnames(datos_cafeina) <- c('dosis_suministrada', 'digitaciones_por_minuto')"
   ]
  },
  {
   "cell_type": "code",
   "execution_count": 3,
   "metadata": {},
   "outputs": [],
   "source": [
    "digitaciones_por_minuto <- datos_cafeina$digitaciones_por_minuto\n",
    "dosis_suministrada <- datos_cafeina$dosis_suminstrada"
   ]
  },
  {
   "cell_type": "code",
   "execution_count": 4,
   "metadata": {},
   "outputs": [
    {
     "data": {
      "text/html": [
       "<table>\n",
       "<caption>A data.frame: 30 × 2</caption>\n",
       "<thead>\n",
       "\t<tr><th scope=col>dosis_suministrada</th><th scope=col>digitaciones_por_minuto</th></tr>\n",
       "\t<tr><th scope=col>&lt;int&gt;</th><th scope=col>&lt;int&gt;</th></tr>\n",
       "</thead>\n",
       "<tbody>\n",
       "\t<tr><td>1</td><td>242</td></tr>\n",
       "\t<tr><td>1</td><td>245</td></tr>\n",
       "\t<tr><td>1</td><td>244</td></tr>\n",
       "\t<tr><td>1</td><td>248</td></tr>\n",
       "\t<tr><td>1</td><td>247</td></tr>\n",
       "\t<tr><td>1</td><td>248</td></tr>\n",
       "\t<tr><td>1</td><td>242</td></tr>\n",
       "\t<tr><td>1</td><td>244</td></tr>\n",
       "\t<tr><td>1</td><td>246</td></tr>\n",
       "\t<tr><td>1</td><td>242</td></tr>\n",
       "\t<tr><td>2</td><td>248</td></tr>\n",
       "\t<tr><td>2</td><td>246</td></tr>\n",
       "\t<tr><td>2</td><td>245</td></tr>\n",
       "\t<tr><td>2</td><td>247</td></tr>\n",
       "\t<tr><td>2</td><td>248</td></tr>\n",
       "\t<tr><td>2</td><td>250</td></tr>\n",
       "\t<tr><td>2</td><td>247</td></tr>\n",
       "\t<tr><td>2</td><td>246</td></tr>\n",
       "\t<tr><td>2</td><td>243</td></tr>\n",
       "\t<tr><td>2</td><td>244</td></tr>\n",
       "\t<tr><td>3</td><td>246</td></tr>\n",
       "\t<tr><td>3</td><td>248</td></tr>\n",
       "\t<tr><td>3</td><td>250</td></tr>\n",
       "\t<tr><td>3</td><td>252</td></tr>\n",
       "\t<tr><td>3</td><td>248</td></tr>\n",
       "\t<tr><td>3</td><td>250</td></tr>\n",
       "\t<tr><td>3</td><td>246</td></tr>\n",
       "\t<tr><td>3</td><td>248</td></tr>\n",
       "\t<tr><td>3</td><td>245</td></tr>\n",
       "\t<tr><td>3</td><td>250</td></tr>\n",
       "</tbody>\n",
       "</table>\n"
      ],
      "text/latex": [
       "A data.frame: 30 × 2\n",
       "\\begin{tabular}{ll}\n",
       " dosis\\_suministrada & digitaciones\\_por\\_minuto\\\\\n",
       " <int> & <int>\\\\\n",
       "\\hline\n",
       "\t 1 & 242\\\\\n",
       "\t 1 & 245\\\\\n",
       "\t 1 & 244\\\\\n",
       "\t 1 & 248\\\\\n",
       "\t 1 & 247\\\\\n",
       "\t 1 & 248\\\\\n",
       "\t 1 & 242\\\\\n",
       "\t 1 & 244\\\\\n",
       "\t 1 & 246\\\\\n",
       "\t 1 & 242\\\\\n",
       "\t 2 & 248\\\\\n",
       "\t 2 & 246\\\\\n",
       "\t 2 & 245\\\\\n",
       "\t 2 & 247\\\\\n",
       "\t 2 & 248\\\\\n",
       "\t 2 & 250\\\\\n",
       "\t 2 & 247\\\\\n",
       "\t 2 & 246\\\\\n",
       "\t 2 & 243\\\\\n",
       "\t 2 & 244\\\\\n",
       "\t 3 & 246\\\\\n",
       "\t 3 & 248\\\\\n",
       "\t 3 & 250\\\\\n",
       "\t 3 & 252\\\\\n",
       "\t 3 & 248\\\\\n",
       "\t 3 & 250\\\\\n",
       "\t 3 & 246\\\\\n",
       "\t 3 & 248\\\\\n",
       "\t 3 & 245\\\\\n",
       "\t 3 & 250\\\\\n",
       "\\end{tabular}\n"
      ],
      "text/markdown": [
       "\n",
       "A data.frame: 30 × 2\n",
       "\n",
       "| dosis_suministrada &lt;int&gt; | digitaciones_por_minuto &lt;int&gt; |\n",
       "|---|---|\n",
       "| 1 | 242 |\n",
       "| 1 | 245 |\n",
       "| 1 | 244 |\n",
       "| 1 | 248 |\n",
       "| 1 | 247 |\n",
       "| 1 | 248 |\n",
       "| 1 | 242 |\n",
       "| 1 | 244 |\n",
       "| 1 | 246 |\n",
       "| 1 | 242 |\n",
       "| 2 | 248 |\n",
       "| 2 | 246 |\n",
       "| 2 | 245 |\n",
       "| 2 | 247 |\n",
       "| 2 | 248 |\n",
       "| 2 | 250 |\n",
       "| 2 | 247 |\n",
       "| 2 | 246 |\n",
       "| 2 | 243 |\n",
       "| 2 | 244 |\n",
       "| 3 | 246 |\n",
       "| 3 | 248 |\n",
       "| 3 | 250 |\n",
       "| 3 | 252 |\n",
       "| 3 | 248 |\n",
       "| 3 | 250 |\n",
       "| 3 | 246 |\n",
       "| 3 | 248 |\n",
       "| 3 | 245 |\n",
       "| 3 | 250 |\n",
       "\n"
      ],
      "text/plain": [
       "   dosis_suministrada digitaciones_por_minuto\n",
       "1  1                  242                    \n",
       "2  1                  245                    \n",
       "3  1                  244                    \n",
       "4  1                  248                    \n",
       "5  1                  247                    \n",
       "6  1                  248                    \n",
       "7  1                  242                    \n",
       "8  1                  244                    \n",
       "9  1                  246                    \n",
       "10 1                  242                    \n",
       "11 2                  248                    \n",
       "12 2                  246                    \n",
       "13 2                  245                    \n",
       "14 2                  247                    \n",
       "15 2                  248                    \n",
       "16 2                  250                    \n",
       "17 2                  247                    \n",
       "18 2                  246                    \n",
       "19 2                  243                    \n",
       "20 2                  244                    \n",
       "21 3                  246                    \n",
       "22 3                  248                    \n",
       "23 3                  250                    \n",
       "24 3                  252                    \n",
       "25 3                  248                    \n",
       "26 3                  250                    \n",
       "27 3                  246                    \n",
       "28 3                  248                    \n",
       "29 3                  245                    \n",
       "30 3                  250                    "
      ]
     },
     "metadata": {},
     "output_type": "display_data"
    }
   ],
   "source": [
    "datos_cafeina"
   ]
  },
  {
   "cell_type": "markdown",
   "metadata": {},
   "source": [
    "**a) Testee la hipótesis** de que la cafeína no afecta la digitación al nivel 0.05"
   ]
  },
  {
   "cell_type": "markdown",
   "metadata": {},
   "source": [
    "**Algunas observaciones importantes:** \n",
    "\n",
    "* Hay 3 niveles de cafeína distintos y tenemos 10 muestras para cada nivel de cafeína\n",
    "* Mi objetivo es saber si la media en cada grupo es distinta o si todas las medias son iguales."
   ]
  },
  {
   "cell_type": "markdown",
   "metadata": {},
   "source": [
    "**Llamando:** \n",
    "\n",
    "- $Y$ = cantidad de digitaciones por minuto \n",
    "- $Y_{1,i}$ = cantidad de digitaciones por minuto de la i-esima persona del grupo de los que consumieron 0 gramos de cafeina (1$\\leqslant$i$\\leqslant$10)\n",
    "- $Y_{2,i}$ = cantidad de digitaciones por minuto de la i-esima persona del grupo de los que consumieron 0 gramos de cafeina (11$\\leqslant$i$\\leqslant$20)\n",
    "- $Y_{3,i}$ = cantidad de digitaciones por minuto de la i-esima persona del grupo de los que consumieron 0 gramos de cafeina (21$\\leqslant$i$\\leqslant$30)"
   ]
  },
  {
   "cell_type": "markdown",
   "metadata": {},
   "source": [
    "**El modelo lineal que planteamos es entonces el siguiente:**\n",
    "\n",
    "- $Y_{1,i}$ = $\\mu_{1}$ + $\\epsilon_{1,i}$ (1$\\leqslant$i$\\leqslant$10)\n",
    "- $Y_{2,i}$ = $\\mu_{2}$ + $\\epsilon_{2,i}$ (11$\\leqslant$i$\\leqslant$20)\n",
    "- $Y_{3,i}$ = $\\mu_{3}$ + $\\epsilon_{3,i}$ (21$\\leqslant$i$\\leqslant$30)"
   ]
  },
  {
   "cell_type": "markdown",
   "metadata": {},
   "source": [
    "**Que escrito en forma matricial resulta:**\n",
    "\n",
    "$Y = X\\beta + \\epsilon$\n",
    "\n",
    "$Y = \\begin{bmatrix}Y_{1,1}\\\\.\\\\Y_{1,10}\\\\Y_{2,11}\\\\.\\\\Y_{2,20}\\\\Y_{3,21}\\\\.\\\\Y_{3,30} \\end{bmatrix}$  $\\hspace{20mm}$ $ X = \\begin{bmatrix} 1&0&0\\\\.&.&.\\\\1&0&0\\\\0&1&0\\\\.&.&.\\\\0&1&0\\\\0&0&1\\\\.&.&.\\\\0&0&1\\end{bmatrix}$ $\\hspace{20mm}$  $\\beta = \\begin{bmatrix} \\mu_{1}\\\\ \\mu_{2}\\\\ \\mu{3} \\end{bmatrix}$"
   ]
  },
  {
   "cell_type": "markdown",
   "metadata": {},
   "source": [
    "**El test de hipotesis que planteo es entonces el siguiente:**\n",
    "\n",
    "$H_{0}: \\mu_{1} = \\mu_{2} = \\mu_{3}$ $\\hspace{10mm}$ vs. $\\hspace{10mm}$ $H_{1}:$ alguno es distinto\n",
    "\n",
    "\n",
    "$\\phi(X) = 1${$F$ > *$F_{q, n-p, \\alpha}$*} \n",
    "\n",
    "**Con $F$:**\n",
    "\n",
    "$F = \\frac{(c\\hat\\beta-\\delta)^T (c(X^TX)^{-1}c^T)^{-1}(c\\hat\\beta-\\delta)}{qS^2}$\n",
    "\n",
    "**Observación**: Esta $F$ es un **estadístico cuya distribución es conocida bajo la aceptación de la hipótesis nula**: \n",
    "\n",
    "- Es un **estadístico** porque: es función de la muestra pues depende de las observaciones $X$ y para calcularse no depende de ningún parámetro desconocido (por ejemplo $\\beta$ o $\\sigma^2$). Es importante notar que para calcular una observación del estadistico utilizamos $\\delta$ (que es conocido), el valor que adoptaria $c\\beta$ (desconocido) si la hipótesis nula fuera verdadera. Esta $\\delta$ es conocida por que es lo que queremos probar (queremos probar si $c\\beta = \\delta$ con c y $\\delta$ a definirse según lo que se quiera probar)\n",
    "- Además **su distribucion sólo es conocida adoptando la hipótesis nula verdadera**. Esto se debe a que, **sin adoptar la hipótesis nula** sabemos que $c\\hat\\beta$ ~ $N(c\\beta$, $\\sigma^2 c(X^TX)^{-1}c^T$): por lo que **bajo la hipótesis nula** distribuirá $N(\\delta, \\sigma^2 c(X^TX)^{-1}c^T)$ con $\\sigma^2$ desconocido. Estimando $\\sigma$ por S. Se demuestra que $\\frac{(c\\hat\\beta-\\delta)^T (c(X^TX)^{-1}c^T)^{-1}(c\\hat\\beta-\\delta)}{qS^2}$ distribuye $F_{q,n-p}$ (conociendo ahora la distribución de $c\\hat\\beta$)\n"
   ]
  },
  {
   "cell_type": "markdown",
   "metadata": {},
   "source": [
    "Dado que lo que queremos testear es si los $\\beta$ (que en este caso son $\\mu_{i}$) son iguales podemos definir a c y $\\delta$ de la siguiente manera:\n",
    "\n",
    "$c = \\begin{bmatrix}1 & -1 & 0\\\\0 & 1 & -1\\end{bmatrix}$ $\\hspace{5mm}$ y $\\delta = \\begin{bmatrix} 0 \\\\ 0 \\end{bmatrix}$\n",
    "\n",
    "De esta manera nuestra $H_{0}$ es: $c\\beta = \\begin{bmatrix} \\mu_{1} -\\mu_{2} \\\\ \\mu_{2} -\\mu_{3}\\end{bmatrix} = \\begin{bmatrix} 0 \\\\ 0 \\end{bmatrix} = \\delta$"
   ]
  },
  {
   "cell_type": "markdown",
   "metadata": {},
   "source": [
    "**Busco los datos que necesito para hallar la estimación del estadístico F para esta muestra**"
   ]
  },
  {
   "cell_type": "code",
   "execution_count": 5,
   "metadata": {},
   "outputs": [
    {
     "name": "stdout",
     "output_type": "stream",
     "text": [
      "     [,1] [,2] [,3]\n",
      "[1,]    1   -1    0\n",
      "[2,]    0    1   -1\n"
     ]
    }
   ],
   "source": [
    "c <- cbind(c(1,0),c(-1,1), c(0,-1))\n",
    "\n",
    "print(c)"
   ]
  },
  {
   "cell_type": "code",
   "execution_count": 6,
   "metadata": {},
   "outputs": [
    {
     "name": "stdout",
     "output_type": "stream",
     "text": [
      "      [,1] [,2] [,3]\n",
      " [1,]    1    0    0\n",
      " [2,]    1    0    0\n",
      " [3,]    1    0    0\n",
      " [4,]    1    0    0\n",
      " [5,]    1    0    0\n",
      " [6,]    1    0    0\n",
      " [7,]    1    0    0\n",
      " [8,]    1    0    0\n",
      " [9,]    1    0    0\n",
      "[10,]    1    0    0\n",
      "[11,]    0    1    0\n",
      "[12,]    0    1    0\n",
      "[13,]    0    1    0\n",
      "[14,]    0    1    0\n",
      "[15,]    0    1    0\n",
      "[16,]    0    1    0\n",
      "[17,]    0    1    0\n",
      "[18,]    0    1    0\n",
      "[19,]    0    1    0\n",
      "[20,]    0    1    0\n",
      "[21,]    0    0    1\n",
      "[22,]    0    0    1\n",
      "[23,]    0    0    1\n",
      "[24,]    0    0    1\n",
      "[25,]    0    0    1\n",
      "[26,]    0    0    1\n",
      "[27,]    0    0    1\n",
      "[28,]    0    0    1\n",
      "[29,]    0    0    1\n",
      "[30,]    0    0    1\n"
     ]
    }
   ],
   "source": [
    "X <- matrix(0, 30, 3)\n",
    "\n",
    "for(i in 1:10){\n",
    "    X[i,] <- c(1,0,0)\n",
    "    X[i + 10,] <- c(0,1,0)\n",
    "    X[i + 20,] <- c(0,0,1)\n",
    "}\n",
    "\n",
    "print(X)"
   ]
  },
  {
   "cell_type": "code",
   "execution_count": 7,
   "metadata": {},
   "outputs": [
    {
     "name": "stdout",
     "output_type": "stream",
     "text": [
      "     [,1]\n",
      "[1,]    0\n",
      "[2,]    0\n"
     ]
    }
   ],
   "source": [
    "delta <- matrix(0, 2, 1)\n",
    "\n",
    "print(delta)"
   ]
  },
  {
   "cell_type": "code",
   "execution_count": 8,
   "metadata": {},
   "outputs": [],
   "source": [
    "n <- nrow(X)\n",
    "\n",
    "p <- ncol(X)\n",
    "\n",
    "A <- t(X) %*% X\n",
    "\n",
    "beta_hat <- solve(A) %*% t(X) %*% digitaciones_por_minuto\n",
    "\n",
    "y_fitted <- X %*% beta_hat\n",
    "\n",
    "s2 <- sum((digitaciones_por_minuto - y_fitted)^2)/(n-p)\n",
    "\n",
    "q <- nrow(c)"
   ]
  },
  {
   "cell_type": "code",
   "execution_count": 9,
   "metadata": {},
   "outputs": [
    {
     "data": {
      "text/html": [
       "<table>\n",
       "<caption>A matrix: 1 × 1 of type dbl</caption>\n",
       "<tbody>\n",
       "\t<tr><td>6.181208</td></tr>\n",
       "</tbody>\n",
       "</table>\n"
      ],
      "text/latex": [
       "A matrix: 1 × 1 of type dbl\n",
       "\\begin{tabular}{l}\n",
       "\t 6.181208\\\\\n",
       "\\end{tabular}\n"
      ],
      "text/markdown": [
       "\n",
       "A matrix: 1 × 1 of type dbl\n",
       "\n",
       "| 6.181208 |\n",
       "\n"
      ],
      "text/plain": [
       "     [,1]    \n",
       "[1,] 6.181208"
      ]
     },
     "metadata": {},
     "output_type": "display_data"
    }
   ],
   "source": [
    "F =  ( t(c %*% beta_hat - delta) %*% solve(c %*% solve(A) %*% t(c)) %*% (c %*% beta_hat - delta) ) / (q*s2) \n",
    "F"
   ]
  },
  {
   "cell_type": "code",
   "execution_count": 10,
   "metadata": {},
   "outputs": [
    {
     "data": {
      "text/html": [
       "3.3541308285292"
      ],
      "text/latex": [
       "3.3541308285292"
      ],
      "text/markdown": [
       "3.3541308285292"
      ],
      "text/plain": [
       "[1] 3.354131"
      ]
     },
     "metadata": {},
     "output_type": "display_data"
    }
   ],
   "source": [
    "cuantil_f <- qf(0.95, q, n-p)\n",
    "cuantil_f"
   ]
  },
  {
   "cell_type": "code",
   "execution_count": 11,
   "metadata": {},
   "outputs": [
    {
     "name": "stdout",
     "output_type": "stream",
     "text": [
      "[1] \"Rechazamos la hipotesis nula de que las medias de los grupos son iguales, es decir,\"\n",
      "[1] \"confirmamos con un 95% de seguridad que las medias de los grupos son distintas y por lo tanto,\"\n",
      "[1] \"concluimos que la cafeina afecta a las digitaciones por minuto\"\n"
     ]
    }
   ],
   "source": [
    "if( F > cuantil_f){\n",
    "    print(\"Rechazamos la hipotesis nula de que las medias de los grupos son iguales, es decir,\")\n",
    "    print(\"confirmamos con un 95% de seguridad que las medias de los grupos son distintas y por lo tanto,\")\n",
    "    print(\"concluimos que la cafeina afecta a las digitaciones por minuto\")\n",
    "}else{\n",
    "  print(\"No podemos rechazar la hipotesis nula de que las medias de los grupos son iguales, es decir,\")\n",
    "  print(\"no tenemos suficiente evidencia como para poder rechazarla y por lo tanto no sabemos si son o no distintas\")  \n",
    "}"
   ]
  },
  {
   "cell_type": "markdown",
   "metadata": {},
   "source": [
    "**b)** Deduzca **intervalos de confianza** para la diferencia de las medias con un **nivel global** 0,95. Interprete los resultados."
   ]
  },
  {
   "cell_type": "code",
   "execution_count": 12,
   "metadata": {},
   "outputs": [],
   "source": [
    "q <- 3"
   ]
  },
  {
   "cell_type": "code",
   "execution_count": 13,
   "metadata": {},
   "outputs": [],
   "source": [
    "cuantil_t <- qt(1- (0.05)/(2*q), n-p)"
   ]
  },
  {
   "cell_type": "code",
   "execution_count": 14,
   "metadata": {},
   "outputs": [
    {
     "data": {
      "text/html": [
       "<style>\n",
       ".list-inline {list-style: none; margin:0; padding: 0}\n",
       ".list-inline>li {display: inline-block}\n",
       ".list-inline>li:not(:last-child)::after {content: \"\\00b7\"; padding: 0 .5ex}\n",
       "</style>\n",
       "<ol class=list-inline><li>-4.14</li><li>0.94</li></ol>\n"
      ],
      "text/latex": [
       "\\begin{enumerate*}\n",
       "\\item -4.14\n",
       "\\item 0.94\n",
       "\\end{enumerate*}\n"
      ],
      "text/markdown": [
       "1. -4.14\n",
       "2. 0.94\n",
       "\n",
       "\n"
      ],
      "text/plain": [
       "[1] -4.14  0.94"
      ]
     },
     "metadata": {},
     "output_type": "display_data"
    }
   ],
   "source": [
    "c1 <- c(1, -1, 0)\n",
    "\n",
    "cotaInferior1 <-  c1 %*% beta_hat - cuantil_t * sqrt(s2) * sqrt( t(c1) %*% solve(A) %*% c1 )\n",
    "cotaSuperior1 <- c1 %*% beta_hat + cuantil_t * sqrt(s2) * sqrt( t(c1) %*% solve(A) %*% c1 ) \n",
    "\n",
    "intervalo1 <- c(cotaInferior1, cotaSuperior1)\n",
    "\n",
    "round(intervalo1, 2)"
   ]
  },
  {
   "cell_type": "code",
   "execution_count": 15,
   "metadata": {},
   "outputs": [
    {
     "data": {
      "text/html": [
       "<style>\n",
       ".list-inline {list-style: none; margin:0; padding: 0}\n",
       ".list-inline>li {display: inline-block}\n",
       ".list-inline>li:not(:last-child)::after {content: \"\\00b7\"; padding: 0 .5ex}\n",
       "</style>\n",
       "<ol class=list-inline><li>-4.44</li><li>0.64</li></ol>\n"
      ],
      "text/latex": [
       "\\begin{enumerate*}\n",
       "\\item -4.44\n",
       "\\item 0.64\n",
       "\\end{enumerate*}\n"
      ],
      "text/markdown": [
       "1. -4.44\n",
       "2. 0.64\n",
       "\n",
       "\n"
      ],
      "text/plain": [
       "[1] -4.44  0.64"
      ]
     },
     "metadata": {},
     "output_type": "display_data"
    }
   ],
   "source": [
    "c2 <- c(0, 1, -1)\n",
    "\n",
    "cotaInferior2 <-  c2 %*% beta_hat - cuantil_t * sqrt(s2) * sqrt( t(c2) %*% solve(A) %*% c2 )\n",
    "cotaSuperior2 <- c2 %*% beta_hat + cuantil_t * sqrt(s2) * sqrt( t(c2) %*% solve(A) %*% c2 ) \n",
    "\n",
    "intervalo2 <- c(cotaInferior2, cotaSuperior2)\n",
    "\n",
    "round(intervalo2, 2)"
   ]
  },
  {
   "cell_type": "code",
   "execution_count": 16,
   "metadata": {},
   "outputs": [
    {
     "data": {
      "text/html": [
       "<style>\n",
       ".list-inline {list-style: none; margin:0; padding: 0}\n",
       ".list-inline>li {display: inline-block}\n",
       ".list-inline>li:not(:last-child)::after {content: \"\\00b7\"; padding: 0 .5ex}\n",
       "</style>\n",
       "<ol class=list-inline><li>0.96</li><li>6.04</li></ol>\n"
      ],
      "text/latex": [
       "\\begin{enumerate*}\n",
       "\\item 0.96\n",
       "\\item 6.04\n",
       "\\end{enumerate*}\n"
      ],
      "text/markdown": [
       "1. 0.96\n",
       "2. 6.04\n",
       "\n",
       "\n"
      ],
      "text/plain": [
       "[1] 0.96 6.04"
      ]
     },
     "metadata": {},
     "output_type": "display_data"
    }
   ],
   "source": [
    "c3 <- c(-1, 0, 1)\n",
    "\n",
    "cotaInferior3 <-  c3 %*% beta_hat - cuantil_t * sqrt(s2) * sqrt( t(c3) %*% solve(A) %*% c3 )\n",
    "cotaSuperior3 <- c3 %*% beta_hat + cuantil_t * sqrt(s2) * sqrt( t(c3) %*% solve(A) %*% c3 ) \n",
    "\n",
    "intervalo3 <- c(cotaInferior3, cotaSuperior3)\n",
    "\n",
    "round(intervalo3, 2)"
   ]
  },
  {
   "cell_type": "markdown",
   "metadata": {},
   "source": [
    "El unico intervalo que no contiene al 0 es el tercero"
   ]
  },
  {
   "cell_type": "markdown",
   "metadata": {},
   "source": [
    "SHEFFE"
   ]
  },
  {
   "cell_type": "code",
   "execution_count": 17,
   "metadata": {},
   "outputs": [
    {
     "data": {
      "text/html": [
       "<table>\n",
       "<caption>A matrix: 2 × 3 of type dbl</caption>\n",
       "<tbody>\n",
       "\t<tr><td>1</td><td>-1</td><td> 0</td></tr>\n",
       "\t<tr><td>0</td><td> 1</td><td>-1</td></tr>\n",
       "</tbody>\n",
       "</table>\n"
      ],
      "text/latex": [
       "A matrix: 2 × 3 of type dbl\n",
       "\\begin{tabular}{lll}\n",
       "\t 1 & -1 &  0\\\\\n",
       "\t 0 &  1 & -1\\\\\n",
       "\\end{tabular}\n"
      ],
      "text/markdown": [
       "\n",
       "A matrix: 2 × 3 of type dbl\n",
       "\n",
       "| 1 | -1 |  0 |\n",
       "| 0 |  1 | -1 |\n",
       "\n"
      ],
      "text/plain": [
       "     [,1] [,2] [,3]\n",
       "[1,] 1    -1    0  \n",
       "[2,] 0     1   -1  "
      ]
     },
     "metadata": {},
     "output_type": "display_data"
    }
   ],
   "source": [
    "h1 = c(1,0)\n",
    "h2 = c(0,1)\n",
    "h3 = c(1,1)\n",
    "\n",
    "c #Observar que esta es la misma C del test de hipotesis\n",
    "q <- 2# cuidado q vuelve a ser 2 porque uso la misma C que antes"
   ]
  },
  {
   "cell_type": "code",
   "execution_count": 18,
   "metadata": {},
   "outputs": [
    {
     "data": {
      "text/html": [
       "3.3541308285292"
      ],
      "text/latex": [
       "3.3541308285292"
      ],
      "text/markdown": [
       "3.3541308285292"
      ],
      "text/plain": [
       "[1] 3.354131"
      ]
     },
     "metadata": {},
     "output_type": "display_data"
    }
   ],
   "source": [
    "cuantil_f <- qf(1-0.05, q, n-p)\n",
    "cuantil_f"
   ]
  },
  {
   "cell_type": "code",
   "execution_count": 19,
   "metadata": {},
   "outputs": [],
   "source": [
    "cotaInferior1 <- t(h1) %*% c %*% beta_hat - sqrt(q * cuantil_f *s2) * sqrt(t(h1) %*% c %*% solve(A) %*% t(c) %*% h1)"
   ]
  },
  {
   "cell_type": "code",
   "execution_count": 20,
   "metadata": {},
   "outputs": [
    {
     "data": {
      "text/html": [
       "<style>\n",
       ".list-inline {list-style: none; margin:0; padding: 0}\n",
       ".list-inline>li {display: inline-block}\n",
       ".list-inline>li:not(:last-child)::after {content: \"\\00b7\"; padding: 0 .5ex}\n",
       "</style>\n",
       "<ol class=list-inline><li>-4.18</li><li>0.98</li></ol>\n"
      ],
      "text/latex": [
       "\\begin{enumerate*}\n",
       "\\item -4.18\n",
       "\\item 0.98\n",
       "\\end{enumerate*}\n"
      ],
      "text/markdown": [
       "1. -4.18\n",
       "2. 0.98\n",
       "\n",
       "\n"
      ],
      "text/plain": [
       "[1] -4.18  0.98"
      ]
     },
     "metadata": {},
     "output_type": "display_data"
    }
   ],
   "source": [
    "cotaInferior1 <- t(h1) %*% c %*% beta_hat - sqrt(q * cuantil_f *s2) * sqrt(t(h1) %*% c %*% solve(A) %*% t(c) %*% h1)\n",
    "cotaSuperior1 <- t(h1) %*% c %*% beta_hat + sqrt(q * cuantil_f *s2) * sqrt(t(h1) %*% c %*% solve(A) %*% t(c) %*% h1)\n",
    "IC1 = c(cotaInferior1, cotaSuperior1)\n",
    "round(IC1, 2)"
   ]
  },
  {
   "cell_type": "code",
   "execution_count": 21,
   "metadata": {},
   "outputs": [
    {
     "data": {
      "text/html": [
       "<style>\n",
       ".list-inline {list-style: none; margin:0; padding: 0}\n",
       ".list-inline>li {display: inline-block}\n",
       ".list-inline>li:not(:last-child)::after {content: \"\\00b7\"; padding: 0 .5ex}\n",
       "</style>\n",
       "<ol class=list-inline><li>-4.48</li><li>0.68</li></ol>\n"
      ],
      "text/latex": [
       "\\begin{enumerate*}\n",
       "\\item -4.48\n",
       "\\item 0.68\n",
       "\\end{enumerate*}\n"
      ],
      "text/markdown": [
       "1. -4.48\n",
       "2. 0.68\n",
       "\n",
       "\n"
      ],
      "text/plain": [
       "[1] -4.48  0.68"
      ]
     },
     "metadata": {},
     "output_type": "display_data"
    }
   ],
   "source": [
    "cotaInferior2 <- t(h2) %*% c %*% beta_hat - sqrt(q * cuantil_f *s2) * sqrt(t(h2) %*% c %*% solve(A) %*% t(c) %*% h2)\n",
    "cotaSuperior2 <- t(h2) %*% c %*% beta_hat + sqrt(q * cuantil_f *s2) * sqrt(t(h2) %*% c %*% solve(A) %*% t(c) %*% h2)\n",
    "IC2 = c(cotaInferior2, cotaSuperior2)\n",
    "round(IC2, 2)"
   ]
  },
  {
   "cell_type": "code",
   "execution_count": 22,
   "metadata": {},
   "outputs": [
    {
     "data": {
      "text/html": [
       "<style>\n",
       ".list-inline {list-style: none; margin:0; padding: 0}\n",
       ".list-inline>li {display: inline-block}\n",
       ".list-inline>li:not(:last-child)::after {content: \"\\00b7\"; padding: 0 .5ex}\n",
       "</style>\n",
       "<ol class=list-inline><li>-6.08</li><li>-0.92</li></ol>\n"
      ],
      "text/latex": [
       "\\begin{enumerate*}\n",
       "\\item -6.08\n",
       "\\item -0.92\n",
       "\\end{enumerate*}\n"
      ],
      "text/markdown": [
       "1. -6.08\n",
       "2. -0.92\n",
       "\n",
       "\n"
      ],
      "text/plain": [
       "[1] -6.08 -0.92"
      ]
     },
     "metadata": {},
     "output_type": "display_data"
    }
   ],
   "source": [
    "cotaInferior3 <- t(h3) %*% c %*% beta_hat - sqrt(q * cuantil_f *s2) * sqrt(t(h3) %*% c %*% solve(A) %*% t(c) %*% h3)\n",
    "cotaSuperior3 <- t(h3) %*% c %*% beta_hat + sqrt(q * cuantil_f *s2) * sqrt(t(h3) %*% c %*% solve(A) %*% t(c) %*% h3)\n",
    "IC3 = c(cotaInferior3, cotaSuperior3)\n",
    "round(IC3, 2)"
   ]
  },
  {
   "cell_type": "markdown",
   "metadata": {},
   "source": [
    "## Dummy variables\n",
    "\n",
    "El ejercicio anteriormente planteado es un ejercicio de **ANOVA** o **Análisis de la Varianza**. ANOVA busca comparar la media de diferentes poblaciones o de diferentes grupos dentro de una misma población que se supone tienen la misma varianza $\\sigma^2$.\n",
    "\n",
    "Para lograr una comparación de las medias de los grupos anteriormente, utilizamos una regresión lineal con el siguiente modelo:\n",
    "\n",
    "- $Y_{1,i}$ = $\\mu_{1}$ + $\\epsilon_{1,i}$ (1$\\leqslant$i$\\leqslant$10)\n",
    "- $Y_{2,i}$ = $\\mu_{2}$ + $\\epsilon_{2,i}$ (11$\\leqslant$i$\\leqslant$20)\n",
    "- $Y_{2,i}$ = $\\mu_{3}$ + $\\epsilon_{3,i}$ (21$\\leqslant$i$\\leqslant$30)\n",
    "\n",
    "Utilizando este metodo los coeficientes que estimamos $\\hat\\mu_1$ $\\hat\\mu_2$ y $\\hat\\mu_3$ eran las estimaciones para las medias de cada uno de los grupos pues:\n",
    "\n",
    "- $E[Y_{1,i}]$ = $\\mu_{1}$ (1$\\leqslant$i$\\leqslant$10)\n",
    "- $E[Y_{2,i}]$ = $\\mu_{2}$  (11$\\leqslant$i$\\leqslant$20)\n",
    "- $E[Y_{3,i}]$ = $\\mu_{3}$  (21$\\leqslant$i$\\leqslant$30)\n",
    "\n",
    "Y por lo tanto\n",
    "\n",
    "- $\\hat{E}[Y_{1,i}]$ = $\\hat\\mu_{1}$ (1$\\leqslant$i$\\leqslant$10)\n",
    "- $\\hat{E}[Y_{2,i}]$ = $\\hat\\mu_{2}$  (11$\\leqslant$i$\\leqslant$20)\n",
    "- $\\hat{E}[Y_{3,i}]$ = $\\hat\\mu_{3}$  (21$\\leqslant$i$\\leqslant$30)\n",
    "\n",
    "Se observa claramente que los coeficientes estimados eran estimaciones de la esperanza o media de cada uno de los grupos.\n",
    "\n",
    "Sin embargo no es la única forma de plantear esta regresión. Una manera alternativa utiliza lo que se conocen como ¨dummy variables¨.\n",
    "\n",
    "Las dummy variables son variables que pueden tomar unicamente dos valores: 0 ó 1. De esta forma podemos estimar la media de la cantidad de digitaciones de un grupo planteando el siguiente modelo de regresión lineal utilizando dummy variables:\n",
    "\n",
    "$Y_i = \\beta_0 + \\beta_1 X_{1,i} + \\beta_2 X_{2,i} + \\epsilon  $ (1$\\leqslant$i$\\leqslant$30) \n",
    "\n",
    "Donde:\n",
    "\n",
    "$X_{1,i} = \\begin{cases}\n",
    "    1 & \\text{si el i-iesimo joven esta en el grupo que consumio 100 gramos de cafeina}\\\\\n",
    "    0 & \\text{si no}\n",
    "\\end{cases}$\n",
    "\n",
    "$X_{2,i} = \\begin{cases}\n",
    "    1 & \\text{si el i-iesimo joven esta en el grupo que consumio 200 gramos de cafeina}\\\\\n",
    "    0 & \\text{si no}\n",
    "\\end{cases}$\n",
    "\n",
    "Observamos que no es necesario crear una dummy varibale $X_3$ pues cuando $X_1$ = 0 y $X_2$ = 0 se entiende que el joven esta en el grupo que consumio 0 gramos de cafeina. Es importante no agregar esta variable dummy $X_3$ para no tener un problema de colinealidad, informacion redundante (hacer esto es caer en lo que se conoce como **\"dummy trap\"**).\n",
    "\n",
    "Veamos entonces que la estimacion para la media de las poblaciones se consiguen como una combinacion lineal de los coeficientes estimados $\\hat\\beta_0$, $\\hat\\beta_1$ y $\\hat\\beta_2$ pues:\n",
    "\n",
    "$\\hat{E}[Y_i|X_{1,i} = 0, X_{2,i} = 0] = \\hat\\beta_0$\n",
    "\n",
    "$\\hat{E}[Y_i|X_{1,i} = 1, X_{2,i} = 0] = \\hat\\beta_0 + \\hat\\beta_1$\n",
    "\n",
    "$\\hat{E}[Y_i|X_{1,i} = 0, X_{2,i} = 1] = \\hat\\beta_0 + \\hat\\beta_2$\n",
    "\n",
    "Observamos que la estimacion para la media de la cantidad de digitaciones del grupo de control (el que no consumio cafeina) resulta $\\hat\\beta_0$\n",
    "\n",
    "La matriz de diseño resulta de considerar en nuestros casos los valores de $X_{1,i}$ y $X_{2,i}$ observados, es entonces: \n",
    "\n",
    "$ X = \\begin{bmatrix} 1&0&0\\\\.&.&.\\\\1&0&0\\\\1&1&0\\\\.&.&.\\\\1&1&0\\\\1&0&1\\\\.&.&.\\\\1&0&1\\end{bmatrix}$\n",
    "\n",
    "Pues: \n",
    "\n",
    "$x_{1,i} = 0$ y $x_{2,i} = 0$ para i entre 1 y 10\n",
    "\n",
    "$x_{1,i} = 1$ y $x_{2,i} = 0$ para i entre 11 y 20\n",
    "\n",
    "$x_{1,i} = 0$ y $x_{2,i} = 1$ para i entre 21 y 30\n"
   ]
  },
  {
   "cell_type": "code",
   "execution_count": 24,
   "metadata": {},
   "outputs": [
    {
     "name": "stdout",
     "output_type": "stream",
     "text": [
      "      [,1] [,2] [,3]\n",
      " [1,]    1    0    0\n",
      " [2,]    1    0    0\n",
      " [3,]    1    0    0\n",
      " [4,]    1    0    0\n",
      " [5,]    1    0    0\n",
      " [6,]    1    0    0\n",
      " [7,]    1    0    0\n",
      " [8,]    1    0    0\n",
      " [9,]    1    0    0\n",
      "[10,]    1    0    0\n",
      "[11,]    1    1    0\n",
      "[12,]    1    1    0\n",
      "[13,]    1    1    0\n",
      "[14,]    1    1    0\n",
      "[15,]    1    1    0\n",
      "[16,]    1    1    0\n",
      "[17,]    1    1    0\n",
      "[18,]    1    1    0\n",
      "[19,]    1    1    0\n",
      "[20,]    1    1    0\n",
      "[21,]    1    0    1\n",
      "[22,]    1    0    1\n",
      "[23,]    1    0    1\n",
      "[24,]    1    0    1\n",
      "[25,]    1    0    1\n",
      "[26,]    1    0    1\n",
      "[27,]    1    0    1\n",
      "[28,]    1    0    1\n",
      "[29,]    1    0    1\n",
      "[30,]    1    0    1\n"
     ]
    }
   ],
   "source": [
    "X <- matrix(0, 30, 3)\n",
    "\n",
    "for(i in 1:10){\n",
    "    X[i,] <- c(1,0,0)\n",
    "    X[i + 10,] <- c(1,1,0)\n",
    "    X[i + 20,] <- c(1,0,1)\n",
    "}\n",
    "\n",
    "print(X)"
   ]
  },
  {
   "cell_type": "code",
   "execution_count": 26,
   "metadata": {},
   "outputs": [],
   "source": [
    "beta_hat <- solve(t(X)%*%X) %*% t(X) %*% digitaciones_por_minuto"
   ]
  },
  {
   "cell_type": "code",
   "execution_count": 27,
   "metadata": {},
   "outputs": [
    {
     "data": {
      "text/html": [
       "<table>\n",
       "<caption>A matrix: 3 × 1 of type dbl</caption>\n",
       "<tbody>\n",
       "\t<tr><td>244.8</td></tr>\n",
       "\t<tr><td>  1.6</td></tr>\n",
       "\t<tr><td>  3.5</td></tr>\n",
       "</tbody>\n",
       "</table>\n"
      ],
      "text/latex": [
       "A matrix: 3 × 1 of type dbl\n",
       "\\begin{tabular}{l}\n",
       "\t 244.8\\\\\n",
       "\t   1.6\\\\\n",
       "\t   3.5\\\\\n",
       "\\end{tabular}\n"
      ],
      "text/markdown": [
       "\n",
       "A matrix: 3 × 1 of type dbl\n",
       "\n",
       "| 244.8 |\n",
       "|   1.6 |\n",
       "|   3.5 |\n",
       "\n"
      ],
      "text/plain": [
       "     [,1] \n",
       "[1,] 244.8\n",
       "[2,]   1.6\n",
       "[3,]   3.5"
      ]
     },
     "metadata": {},
     "output_type": "display_data"
    }
   ],
   "source": [
    "beta_hat"
   ]
  },
  {
   "cell_type": "code",
   "execution_count": null,
   "metadata": {},
   "outputs": [],
   "source": []
  }
 ],
 "metadata": {
  "kernelspec": {
   "display_name": "R",
   "language": "R",
   "name": "ir"
  },
  "language_info": {
   "codemirror_mode": "r",
   "file_extension": ".r",
   "mimetype": "text/x-r-source",
   "name": "R",
   "pygments_lexer": "r",
   "version": "3.4.4"
  }
 },
 "nbformat": 4,
 "nbformat_minor": 4
}
